{
 "cells": [
  {
   "cell_type": "code",
   "execution_count": 1,
   "id": "b750a20a",
   "metadata": {
    "_cell_guid": "b1076dfc-b9ad-4769-8c92-a6c4dae69d19",
    "_uuid": "8f2839f25d086af736a60e9eeb907d3b93b6e0e5",
    "execution": {
     "iopub.execute_input": "2025-07-20T19:08:23.208136Z",
     "iopub.status.busy": "2025-07-20T19:08:23.207205Z",
     "iopub.status.idle": "2025-07-20T19:08:25.403739Z",
     "shell.execute_reply": "2025-07-20T19:08:25.402720Z"
    },
    "papermill": {
     "duration": 2.203126,
     "end_time": "2025-07-20T19:08:25.405385",
     "exception": false,
     "start_time": "2025-07-20T19:08:23.202259",
     "status": "completed"
    },
    "tags": []
   },
   "outputs": [
    {
     "name": "stdout",
     "output_type": "stream",
     "text": [
      "/kaggle/input/python-exercise/housing_data.csv\n"
     ]
    }
   ],
   "source": [
    "# This Python 3 environment comes with many helpful analytics libraries installed\n",
    "# It is defined by the kaggle/python Docker image: https://github.com/kaggle/docker-python\n",
    "# For example, here's several helpful packages to load\n",
    "\n",
    "import numpy as np # linear algebra\n",
    "import pandas as pd # data processing, CSV file I/O (e.g. pd.read_csv)\n",
    "\n",
    "# Input data files are available in the read-only \"../input/\" directory\n",
    "# For example, running this (by clicking run or pressing Shift+Enter) will list all files under the input directory\n",
    "\n",
    "import os\n",
    "for dirname, _, filenames in os.walk('/kaggle/input'):\n",
    "    for filename in filenames:\n",
    "        print(os.path.join(dirname, filename))\n",
    "\n",
    "# You can write up to 20GB to the current directory (/kaggle/working/) that gets preserved as output when you create a version using \"Save & Run All\" \n",
    "# You can also write temporary files to /kaggle/temp/, but they won't be saved outside of the current session"
   ]
  },
  {
   "cell_type": "code",
   "execution_count": 2,
   "id": "91660336",
   "metadata": {
    "execution": {
     "iopub.execute_input": "2025-07-20T19:08:25.412899Z",
     "iopub.status.busy": "2025-07-20T19:08:25.412467Z",
     "iopub.status.idle": "2025-07-20T19:08:25.417197Z",
     "shell.execute_reply": "2025-07-20T19:08:25.416321Z"
    },
    "papermill": {
     "duration": 0.010212,
     "end_time": "2025-07-20T19:08:25.419045",
     "exception": false,
     "start_time": "2025-07-20T19:08:25.408833",
     "status": "completed"
    },
    "tags": []
   },
   "outputs": [],
   "source": [
    "import pandas as pd"
   ]
  },
  {
   "cell_type": "code",
   "execution_count": 3,
   "id": "562fb36f",
   "metadata": {
    "execution": {
     "iopub.execute_input": "2025-07-20T19:08:25.426327Z",
     "iopub.status.busy": "2025-07-20T19:08:25.425920Z",
     "iopub.status.idle": "2025-07-20T19:08:25.449503Z",
     "shell.execute_reply": "2025-07-20T19:08:25.448498Z"
    },
    "papermill": {
     "duration": 0.029222,
     "end_time": "2025-07-20T19:08:25.451381",
     "exception": false,
     "start_time": "2025-07-20T19:08:25.422159",
     "status": "completed"
    },
    "tags": []
   },
   "outputs": [],
   "source": [
    "#step1: Load the dataset\n",
    "df = pd.read_csv('/kaggle/input/python-exercise/housing_data.csv')"
   ]
  },
  {
   "cell_type": "code",
   "execution_count": 4,
   "id": "a708c383",
   "metadata": {
    "execution": {
     "iopub.execute_input": "2025-07-20T19:08:25.458886Z",
     "iopub.status.busy": "2025-07-20T19:08:25.458564Z",
     "iopub.status.idle": "2025-07-20T19:08:25.481250Z",
     "shell.execute_reply": "2025-07-20T19:08:25.480300Z"
    },
    "papermill": {
     "duration": 0.029236,
     "end_time": "2025-07-20T19:08:25.483722",
     "exception": false,
     "start_time": "2025-07-20T19:08:25.454486",
     "status": "completed"
    },
    "tags": []
   },
   "outputs": [
    {
     "name": "stdout",
     "output_type": "stream",
     "text": [
      "Missing values in the dataset:\n",
      "House_ID    0\n",
      "Price       2\n",
      "Area        0\n",
      "Bedrooms    1\n",
      "Location    0\n",
      "dtype: int64\n",
      "Dataset: \n",
      "   House_ID     Price  Area  Bedrooms  Location\n",
      "0         1  450000.0  1500       3.0  Downtown\n",
      "1         2  600000.0  1800       4.0    Suburb\n",
      "2         3  750000.0  2200       3.0    Suburb\n",
      "3         4       NaN  1700       4.0  Downtown\n",
      "4         5  900000.0  2500       NaN  Downtown\n",
      "5         6       NaN  2400       5.0    Suburb\n"
     ]
    },
    {
     "name": "stderr",
     "output_type": "stream",
     "text": [
      "/usr/local/lib/python3.11/dist-packages/pandas/io/formats/format.py:1458: RuntimeWarning: invalid value encountered in greater\n",
      "  has_large_values = (abs_vals > 1e6).any()\n",
      "/usr/local/lib/python3.11/dist-packages/pandas/io/formats/format.py:1459: RuntimeWarning: invalid value encountered in less\n",
      "  has_small_values = ((abs_vals < 10 ** (-self.digits)) & (abs_vals > 0)).any()\n",
      "/usr/local/lib/python3.11/dist-packages/pandas/io/formats/format.py:1459: RuntimeWarning: invalid value encountered in greater\n",
      "  has_small_values = ((abs_vals < 10 ** (-self.digits)) & (abs_vals > 0)).any()\n"
     ]
    }
   ],
   "source": [
    "#step2: Check for null values and number of those in each column\n",
    "print(\"Missing values in the dataset:\")\n",
    "print(df.isnull().sum())\n",
    "\n",
    "#Printing the dataset\n",
    "\n",
    "print(f'Dataset: \\n{df}')"
   ]
  },
  {
   "cell_type": "code",
   "execution_count": 5,
   "id": "8c6bcb7c",
   "metadata": {
    "execution": {
     "iopub.execute_input": "2025-07-20T19:08:25.491690Z",
     "iopub.status.busy": "2025-07-20T19:08:25.490567Z",
     "iopub.status.idle": "2025-07-20T19:08:25.500691Z",
     "shell.execute_reply": "2025-07-20T19:08:25.499469Z"
    },
    "papermill": {
     "duration": 0.015606,
     "end_time": "2025-07-20T19:08:25.502478",
     "exception": false,
     "start_time": "2025-07-20T19:08:25.486872",
     "status": "completed"
    },
    "tags": []
   },
   "outputs": [
    {
     "name": "stdout",
     "output_type": "stream",
     "text": [
      "House_ID    0\n",
      "Price       0\n",
      "Area        0\n",
      "Bedrooms    1\n",
      "Location    0\n",
      "dtype: int64\n"
     ]
    }
   ],
   "source": [
    "# Step 3: Fill missing values in \"Price\" column with the column's mean\n",
    "df['Price'] = df['Price'].fillna(df['Price'].mean())\n",
    "#check nulls left\n",
    "print(df.isnull().sum())"
   ]
  },
  {
   "cell_type": "code",
   "execution_count": 6,
   "id": "4ca8ed7d",
   "metadata": {
    "execution": {
     "iopub.execute_input": "2025-07-20T19:08:25.509529Z",
     "iopub.status.busy": "2025-07-20T19:08:25.509223Z",
     "iopub.status.idle": "2025-07-20T19:08:25.516781Z",
     "shell.execute_reply": "2025-07-20T19:08:25.515554Z"
    },
    "papermill": {
     "duration": 0.013044,
     "end_time": "2025-07-20T19:08:25.518563",
     "exception": false,
     "start_time": "2025-07-20T19:08:25.505519",
     "status": "completed"
    },
    "tags": []
   },
   "outputs": [
    {
     "name": "stdout",
     "output_type": "stream",
     "text": [
      "House_ID    0\n",
      "Price       0\n",
      "Area        0\n",
      "Bedrooms    0\n",
      "Location    0\n",
      "dtype: int64\n"
     ]
    }
   ],
   "source": [
    "# Step 4: Fill missing values in \"Bedrooms\" column with the column's mean\n",
    "df['Bedrooms'] = df['Bedrooms'].fillna(df['Bedrooms'].mean())\n",
    "#check nulls left\n",
    "print(df.isnull().sum())"
   ]
  },
  {
   "cell_type": "code",
   "execution_count": 7,
   "id": "82654ae9",
   "metadata": {
    "execution": {
     "iopub.execute_input": "2025-07-20T19:08:25.525771Z",
     "iopub.status.busy": "2025-07-20T19:08:25.525483Z",
     "iopub.status.idle": "2025-07-20T19:08:25.533547Z",
     "shell.execute_reply": "2025-07-20T19:08:25.532322Z"
    },
    "papermill": {
     "duration": 0.013751,
     "end_time": "2025-07-20T19:08:25.535241",
     "exception": false,
     "start_time": "2025-07-20T19:08:25.521490",
     "status": "completed"
    },
    "tags": []
   },
   "outputs": [
    {
     "name": "stdout",
     "output_type": "stream",
     "text": [
      "   House_ID     Price  Area  Bedrooms  Location\n",
      "0         1  450000.0  1500       3.0  Downtown\n",
      "1         2  600000.0  1800       4.0    Suburb\n",
      "2         3  750000.0  2200       3.0    Suburb\n",
      "3         4  675000.0  1700       4.0  Downtown\n",
      "4         5  900000.0  2500       3.8  Downtown\n",
      "5         6  675000.0  2400       5.0    Suburb\n"
     ]
    }
   ],
   "source": [
    "#Step5: Display the dataset after filling the missing values\n",
    "print(df)"
   ]
  },
  {
   "cell_type": "code",
   "execution_count": 8,
   "id": "e8a8c685",
   "metadata": {
    "execution": {
     "iopub.execute_input": "2025-07-20T19:08:25.542735Z",
     "iopub.status.busy": "2025-07-20T19:08:25.542449Z",
     "iopub.status.idle": "2025-07-20T19:08:25.548156Z",
     "shell.execute_reply": "2025-07-20T19:08:25.547053Z"
    },
    "papermill": {
     "duration": 0.011217,
     "end_time": "2025-07-20T19:08:25.549769",
     "exception": false,
     "start_time": "2025-07-20T19:08:25.538552",
     "status": "completed"
    },
    "tags": []
   },
   "outputs": [
    {
     "name": "stdout",
     "output_type": "stream",
     "text": [
      "\\nAverage price of the houses: R675,000.00\n"
     ]
    }
   ],
   "source": [
    "#Step6: Find the average price of the houses, and format the number to 2 decimal places\n",
    "average_price = df['Price'].mean()\n",
    "print(f'\\\\nAverage price of the houses: R{average_price:,.2f}')"
   ]
  },
  {
   "cell_type": "code",
   "execution_count": 9,
   "id": "ff2df6b4",
   "metadata": {
    "execution": {
     "iopub.execute_input": "2025-07-20T19:08:25.557175Z",
     "iopub.status.busy": "2025-07-20T19:08:25.556833Z",
     "iopub.status.idle": "2025-07-20T19:08:25.563758Z",
     "shell.execute_reply": "2025-07-20T19:08:25.562471Z"
    },
    "papermill": {
     "duration": 0.012875,
     "end_time": "2025-07-20T19:08:25.565733",
     "exception": false,
     "start_time": "2025-07-20T19:08:25.552858",
     "status": "completed"
    },
    "tags": []
   },
   "outputs": [
    {
     "name": "stdout",
     "output_type": "stream",
     "text": [
      "\\nHouse with the highest Price:\n",
      "House_ID           5\n",
      "Price       900000.0\n",
      "Area            2500\n",
      "Bedrooms         3.8\n",
      "Location    Downtown\n",
      "Name: 4, dtype: object\n"
     ]
    }
   ],
   "source": [
    "#step7: Find the house with the highest price\n",
    "max_price_house = df.loc[df['Price'].idxmax()]\n",
    "print(f'\\\\nHouse with the highest Price:\\n{max_price_house}')"
   ]
  },
  {
   "cell_type": "code",
   "execution_count": 10,
   "id": "e91f849f",
   "metadata": {
    "execution": {
     "iopub.execute_input": "2025-07-20T19:08:25.573664Z",
     "iopub.status.busy": "2025-07-20T19:08:25.573294Z",
     "iopub.status.idle": "2025-07-20T19:08:25.587379Z",
     "shell.execute_reply": "2025-07-20T19:08:25.586035Z"
    },
    "papermill": {
     "duration": 0.019957,
     "end_time": "2025-07-20T19:08:25.589020",
     "exception": false,
     "start_time": "2025-07-20T19:08:25.569063",
     "status": "completed"
    },
    "tags": []
   },
   "outputs": [
    {
     "name": "stdout",
     "output_type": "stream",
     "text": [
      "\\nHouses with price greater than R600 000: \n",
      "   House_ID     Price  Area  Bedrooms  Location\n",
      "2         3  750000.0  2200       3.0    Suburb\n",
      "3         4  675000.0  1700       4.0  Downtown\n",
      "4         5  900000.0  2500       3.8  Downtown\n",
      "5         6  675000.0  2400       5.0    Suburb\n"
     ]
    }
   ],
   "source": [
    "#Step8: Filter houses with price greater than 600,000\n",
    "filtered_houses = df[df['Price'] > 600000]\n",
    "print(f\"\\\\nHouses with price greater than R600 000: \\n{filtered_houses}\")"
   ]
  }
 ],
 "metadata": {
  "kaggle": {
   "accelerator": "none",
   "dataSources": [
    {
     "datasetId": 7908019,
     "sourceId": 12527427,
     "sourceType": "datasetVersion"
    }
   ],
   "dockerImageVersionId": 31089,
   "isGpuEnabled": false,
   "isInternetEnabled": false,
   "language": "python",
   "sourceType": "notebook"
  },
  "kernelspec": {
   "display_name": "Python 3",
   "language": "python",
   "name": "python3"
  },
  "language_info": {
   "codemirror_mode": {
    "name": "ipython",
    "version": 3
   },
   "file_extension": ".py",
   "mimetype": "text/x-python",
   "name": "python",
   "nbconvert_exporter": "python",
   "pygments_lexer": "ipython3",
   "version": "3.11.13"
  },
  "papermill": {
   "default_parameters": {},
   "duration": 8.239178,
   "end_time": "2025-07-20T19:08:26.114737",
   "environment_variables": {},
   "exception": null,
   "input_path": "__notebook__.ipynb",
   "output_path": "__notebook__.ipynb",
   "parameters": {},
   "start_time": "2025-07-20T19:08:17.875559",
   "version": "2.6.0"
  }
 },
 "nbformat": 4,
 "nbformat_minor": 5
}
